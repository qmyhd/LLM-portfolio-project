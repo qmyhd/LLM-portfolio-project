{
  "cells": [
    {
      "cell_type": "markdown",
      "metadata": {
        "language": "markdown"
      },
      "source": [
        "# Portfolio Journal Generator\n",
        "\n",
        "This notebook demonstrates how to generate a concise portfolio journal entry using LLMs based on trading data from Robinhood (via SnapTrade) and Discord message sentiment. It uses the `journal_generator.py` module for production use."
      ]
    },
    {
      "cell_type": "code",
      "execution_count": null,
      "metadata": {
        "language": "python"
      },
      "outputs": [],
      "source": [
        "import pandas as pd\n",
        "import json\n",
        "import os\n",
        "import sys\n",
        "import re\n",
        "from pathlib import Path\n",
        "from datetime import datetime\n",
        "\n",
        "# Add the src directory to the path so we can import from src\n",
        "sys.path.append('..')\n",
        "\n",
        "# Import our journal generator module\n",
        "from src.journal_generator import (\n",
        "    load_positions,\n",
        "    load_discord_messages,\n",
        "    load_prices,\n",
        "    generate_portfolio_journal\n",
        ")\n",
        "\n",
        "# Define paths with Path objects\n",
        "BASE_DIR = Path().resolve().parent\n",
        "RAW_DIR = BASE_DIR / \"data\" / \"raw\"\n",
        "PROCESSED_DIR = BASE_DIR / \"data\" / \"processed\"\n",
        "\n",
        "# File paths\n",
        "DISCORD_CSV = RAW_DIR / \"discord_msgs.csv\"\n",
        "POSITIONS_CSV = RAW_DIR / \"positions.csv\"\n",
        "PRICES_CSV = RAW_DIR / \"prices.csv\"\n",
        "\n",
        "# Load data\n",
        "positions_df = load_positions(POSITIONS_CSV)\n",
        "messages_df = load_discord_messages(DISCORD_CSV)\n",
        "prices_df = load_prices(PRICES_CSV)"
      ]
    },
    {
      "cell_type": "markdown",
      "id": "597ca3af",
      "metadata": {},
      "source": [
        "## Add New Discord Messages\n",
        "\n",
        "This cell allows you to quickly add a Discord message to your dataset."
      ]
    },
    {
      "cell_type": "code",
      "execution_count": null,
      "id": "b370b60b",
      "metadata": {},
      "outputs": [],
      "source": [
        "# Import the function to add Discord messages to the CSV\n",
        "from src.data_collector import append_discord_message_to_csv\n",
        "from src.journal_generator import extract_ticker_and_text_pairs\n",
        "\n",
        "# Function to add a message and reload the dataset\n",
        "def add_message_and_reload(message_text):\n",
        "    # Call the improved function to safely append to CSV\n",
        "    append_discord_message_to_csv(message_text)\n",
        "    \n",
        "    # Reload messages dataframe\n",
        "    global messages_df\n",
        "    messages_df = load_discord_messages(DISCORD_CSV)\n",
        "    print(f\"✅ Reloaded Discord messages - now have {len(messages_df)} records\")\n",
        "\n",
        "# Example usage - Uncomment and modify to add a message\n",
        "'''\n",
        "message = \"\"\"$ASML\n",
        "decade-long lead over competitors, supported by an unrivaled technical advantage and proprietary supply chain partnerships with companies like Zeiss (precision optics) and Trumpf (laser systems).\n",
        "Gross margin: 51%; net margin: 28%. Balance sheet: More cash than debt.\n",
        "20% of revenue comes from China. Temporary spikes (up to 50%) occurred recently due to preemptive purchases amid export restrictions. Taiwan-China tensions pose risks, but if conflict occurs, ASML's role in rebuilding chip infrastructure globally would likely mitigate long-term damage.\n",
        "ASML collaborates with 4,000+ suppliers, many exclusively serving ASML, a key competitive moat.\n",
        "ASML's next-generation High NA EUV machines (costing €400M/unit) will drive future growth\n",
        "ASML expects significant revenue growth in 2025 after a transition year in 2024\n",
        "Long-term guidance (2030 targets):\n",
        "Revenue: €44B (bear), €52B (mid), €60B (bull).\n",
        "Gross margin improvement: Potential increase from 51% to 60%.\n",
        "P/E ratios (20-30x) are below ASML's historical average\n",
        "\n",
        "Challenges:\n",
        "Cyclical semiconductor demand affects short-term revenue growth (15% projected for 2024 due to weakened demand from Intel and Samsung).\"\"\"\n",
        "\n",
        "add_message_and_reload(message)\n",
        "'''"
      ]
    },
    {
      "cell_type": "markdown",
      "id": "5c17b38f",
      "metadata": {},
      "source": [
        "## Add Multiple Stock Analysis Messages\n",
        "\n",
        "This cell helps you add multiple stock analyses at once (like the thread you shared)."
      ]
    },
    {
      "cell_type": "code",
      "execution_count": null,
      "id": "e3e1aa2d",
      "metadata": {},
      "outputs": [],
      "source": [
        "def process_stock_analysis_thread(text):\n",
        "    \"\"\"Split a multi-stock analysis thread into individual messages and add each one\"\"\"\n",
        "    # Use the improved ticker extraction function that handles positions properly\n",
        "    ticker_text_pairs = extract_ticker_and_text_pairs(text)\n",
        "    \n",
        "    if not ticker_text_pairs:\n",
        "        print(\"No stock sections detected. Make sure ticker symbols are in $TICKER format.\")\n",
        "        return\n",
        "    \n",
        "    # Process each ticker-text pair\n",
        "    for ticker, section_text in ticker_text_pairs:\n",
        "        add_message_and_reload(section_text)\n",
        "    \n",
        "    print(f\"✅ Added {len(ticker_text_pairs)} stock analysis messages\")\n",
        "\n",
        "# Example - Uncomment to use\n",
        "'''\n",
        "thread_text = \"\"\"$ASML\n",
        "decade-long lead over competitors, supported by an unrivaled technical advantage and proprietary supply chain partnerships with companies like Zeiss (precision optics) and Trumpf (laser systems).\n",
        "Gross margin: 51%; net margin: 28%. Balance sheet: More cash than debt.\n",
        "20% of revenue comes from China. Temporary spikes (up to 50%) occurred recently due to preemptive purchases amid export restrictions. Taiwan-China tensions pose risks, but if conflict occurs, ASML's role in rebuilding chip infrastructure globally would likely mitigate long-term damage.\n",
        "ASML collaborates with 4,000+ suppliers, many exclusively serving ASML, a key competitive moat.\n",
        "ASML's next-generation High NA EUV machines (costing €400M/unit) will drive future growth\n",
        "ASML expects significant revenue growth in 2025 after a transition year in 2024\n",
        "Long-term guidance (2030 targets):\n",
        "Revenue: €44B (bear), €52B (mid), €60B (bull).\n",
        "Gross margin improvement: Potential increase from 51% to 60%.\n",
        "P/E ratios (20-30x) are below ASML's historical average\n",
        "\n",
        "Challenges:\n",
        "Cyclical semiconductor demand affects short-term revenue growth (15% projected for 2024 due to weakened demand from Intel and Samsung).\n",
        "$HIMS\n",
        "Mental health only getting more $$ and demand, Viagra 📈 , men's hair loss :up1: , subscription model that's relatively hard to cancel/talk out of...  Lots of comp to come, so probably taper at highs\n",
        "2M+ subscribers growing 40%+ annually 75%+ gross margins, 15%+ free cash flow, no debt, and consistent revenue growth (65% this year, projected 20%+ annually). Trading at ~20x 2025 FCF,well-positioned for long-term success under its founder-CEO, the largest shareholder.\"\"\"\n",
        "\n",
        "process_stock_analysis_thread(thread_text)\n",
        "'''"
      ]
    },
    {
      "cell_type": "markdown",
      "metadata": {
        "language": "markdown"
      },
      "source": [
        "## Generate Journal Entry\n",
        "\n",
        "Now we'll generate our journal entry using the `generate_portfolio_journal` function."
      ]
    },
    {
      "cell_type": "code",
      "execution_count": null,
      "metadata": {
        "language": "python"
      },
      "outputs": [],
      "source": [
        "# Simply call the function from our module to generate the journal\n",
        "journal_entry = generate_portfolio_journal(\n",
        "    positions_path=POSITIONS_CSV,\n",
        "    discord_path=DISCORD_CSV,\n",
        "    prices_path=PRICES_CSV,\n",
        "    output_dir=PROCESSED_DIR\n",
        ")"
      ]
    },
    {
      "cell_type": "markdown",
      "metadata": {
        "language": "markdown"
      },
      "source": [
        "## Other Ways to Run\n",
        "\n",
        "You can also run the journal generator as a script:"
      ]
    },
    {
      "cell_type": "code",
      "execution_count": null,
      "metadata": {
        "language": "python"
      },
      "outputs": [],
      "source": [
        "# This is equivalent to running the script directly\n",
        "!python -m src.journal_generator"
      ]
    }
  ],
  "metadata": {
    "language_info": {
      "name": "python"
    }
  },
  "nbformat": 4,
  "nbformat_minor": 5
}
